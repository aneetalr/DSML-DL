{
  "nbformat": 4,
  "nbformat_minor": 0,
  "metadata": {
    "colab": {
      "provenance": [],
      "authorship_tag": "ABX9TyO/Tj60/htfDOimlosrY84o",
      "include_colab_link": true
    },
    "kernelspec": {
      "name": "python3",
      "display_name": "Python 3"
    },
    "language_info": {
      "name": "python"
    }
  },
  "cells": [
    {
      "cell_type": "markdown",
      "metadata": {
        "id": "view-in-github",
        "colab_type": "text"
      },
      "source": [
        "<a href=\"https://colab.research.google.com/github/aneetalr/DSML-DL/blob/main/BCWknn.ipynb\" target=\"_parent\"><img src=\"https://colab.research.google.com/assets/colab-badge.svg\" alt=\"Open In Colab\"/></a>"
      ]
    },
    {
      "cell_type": "code",
      "execution_count": null,
      "metadata": {
        "id": "xtBzSRMExEir"
      },
      "outputs": [],
      "source": [
        "import pandas as pd\n",
        "from sklearn.model_selection import train_test_split\n",
        "from sklearn.neighbors import KNeighborsClassifier\n",
        "from sklearn import metrics"
      ]
    },
    {
      "cell_type": "code",
      "source": [
        "data = pd.read_csv(\"/content/data.csv\")"
      ],
      "metadata": {
        "id": "IFzvoiifyasN"
      },
      "execution_count": null,
      "outputs": []
    },
    {
      "cell_type": "code",
      "source": [
        "from sklearn import preprocessing \n",
        "label_encoder = preprocessing.LabelEncoder()\n",
        "\n",
        "data[\"diagnosis\"] = label_encoder.fit_transform(data['diagnosis'])\n",
        "data['diagnosis'].unique()"
      ],
      "metadata": {
        "colab": {
          "base_uri": "https://localhost:8080/"
        },
        "id": "xncXiCPFyqDs",
        "outputId": "9947315d-6678-497e-f8af-49b9231372a6"
      },
      "execution_count": null,
      "outputs": [
        {
          "output_type": "execute_result",
          "data": {
            "text/plain": [
              "array([1, 0])"
            ]
          },
          "metadata": {},
          "execution_count": 73
        }
      ]
    },
    {
      "cell_type": "code",
      "source": [
        "train, test = train_test_split(data, test_size = 0.3)\n",
        "\n",
        "trainX = train[data.columns[2:-1]]\n",
        "trainY=train[data.columns[1]]\n",
        "\n",
        "# trainY=trainY.astype('int')\n",
        "testX= test[data.columns[2:-1]] \n",
        "testY =test[data.columns[1]] "
      ],
      "metadata": {
        "id": "-Twsqou-y3eY"
      },
      "execution_count": null,
      "outputs": []
    },
    {
      "cell_type": "code",
      "source": [
        "c_knn = KNeighborsClassifier(n_neighbors=3)\n",
        "c_knn.fit(trainX.values,trainY.values)\n",
        "\n",
        "y_pred = c_knn.predict(testX.values)\n",
        "print(\"Accuracy : \",metrics.accuracy_score(testY.values,y_pred)*100)"
      ],
      "metadata": {
        "colab": {
          "base_uri": "https://localhost:8080/"
        },
        "id": "UzjwsJf3zGBp",
        "outputId": "578c9545-fa6e-450e-e8f4-b315959a38ed"
      },
      "execution_count": null,
      "outputs": [
        {
          "output_type": "stream",
          "name": "stdout",
          "text": [
            "Accuracy :  95.90643274853801\n"
          ]
        }
      ]
    },
    {
      "cell_type": "code",
      "source": [
        "sample = [[15.78,17.89,103.6,781,0.0971,0.1292,0.09954,0.06606,0.1842,0.06082,0.5058,0.9849,3.564,54.16,0.005771,0.04061,0.02791,0.01282,0.02008,0.004144,20.42,27.28,136.5,1299,0.1396,0.5609,0.3965,0.181,0.3792,0.1048]]\n",
        "pred = c_knn.predict(sample)\n",
        "res=pred[0]\n",
        "if res==0:\n",
        "  print('Benign')\n",
        "if res==1:\n",
        "  print('Malignant')"
      ],
      "metadata": {
        "colab": {
          "base_uri": "https://localhost:8080/"
        },
        "id": "lg7kgdx7zQ04",
        "outputId": "a5b19246-2844-42c0-a8f5-840cdab3ddcd"
      },
      "execution_count": null,
      "outputs": [
        {
          "output_type": "stream",
          "name": "stdout",
          "text": [
            "Malignant\n"
          ]
        }
      ]
    }
  ]
}